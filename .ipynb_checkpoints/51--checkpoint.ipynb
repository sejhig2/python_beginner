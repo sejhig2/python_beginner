{
 "cells": [
  {
   "cell_type": "code",
   "execution_count": 5,
   "metadata": {},
   "outputs": [
    {
     "name": "stdout",
     "output_type": "stream",
     "text": [
      "123 123\n",
      "246\n"
     ]
    }
   ],
   "source": [
    "a, b = input().split(\" \")\n",
    "print(int(a)+int(b))"
   ]
  },
  {
   "cell_type": "markdown",
   "metadata": {},
   "source": [
    "### 1051 : [기초-비교연산] 두 정수 입력받아 비교하기3(설명)\n"
   ]
  },
  {
   "cell_type": "code",
   "execution_count": 13,
   "metadata": {},
   "outputs": [
    {
     "name": "stdout",
     "output_type": "stream",
     "text": [
      "10 3\n",
      "0\n"
     ]
    }
   ],
   "source": [
    "a ,b = input().split(\" \")\n",
    "if int(b) >= int(a) :\n",
    "    print(1)\n",
    "else :\n",
    "    print(0)"
   ]
  },
  {
   "cell_type": "markdown",
   "metadata": {},
   "source": [
    "### 1052 : [기초-비교연산] 두 정수 입력받아 비교하기4(설명)"
   ]
  },
  {
   "cell_type": "code",
   "execution_count": 14,
   "metadata": {},
   "outputs": [
    {
     "name": "stdout",
     "output_type": "stream",
     "text": [
      "1 1\n",
      "0\n"
     ]
    }
   ],
   "source": [
    "a ,b = input().split(\" \")\n",
    "if int(b) == int(a) :\n",
    "    print(0)\n",
    "else :\n",
    "    print(1)"
   ]
  },
  {
   "cell_type": "markdown",
   "metadata": {},
   "source": [
    "### 1053 : [기초-논리연산] 참 거짓 바꾸기(설명)\n"
   ]
  },
  {
   "cell_type": "code",
   "execution_count": 16,
   "metadata": {},
   "outputs": [
    {
     "name": "stdout",
     "output_type": "stream",
     "text": [
      "0\n",
      "1\n"
     ]
    }
   ],
   "source": [
    "if int(input()) ==1 :\n",
    "    print(0)\n",
    "else :\n",
    "    print(1)"
   ]
  },
  {
   "cell_type": "code",
   "execution_count": 19,
   "metadata": {},
   "outputs": [
    {
     "name": "stdout",
     "output_type": "stream",
     "text": [
      "0\n",
      "1\n"
     ]
    },
    {
     "data": {
      "text/plain": [
       "[None]"
      ]
     },
     "execution_count": 19,
     "metadata": {},
     "output_type": "execute_result"
    }
   ],
   "source": [
    "[print(0) if int(input()) ==1 else  print(1) ]"
   ]
  },
  {
   "cell_type": "markdown",
   "metadata": {},
   "source": [
    "### 1054 : [기초-논리연산] 둘 다 참일 경우만 참 출력하기(설명)\n"
   ]
  },
  {
   "cell_type": "code",
   "execution_count": 25,
   "metadata": {},
   "outputs": [
    {
     "name": "stdout",
     "output_type": "stream",
     "text": [
      "0 0\n",
      "0\n"
     ]
    },
    {
     "data": {
      "text/plain": [
       "[None]"
      ]
     },
     "execution_count": 25,
     "metadata": {},
     "output_type": "execute_result"
    }
   ],
   "source": [
    "a,b = input().split(\" \")\n",
    "[print(1) if int(a)==int(b)==1 else print(0)]"
   ]
  },
  {
   "cell_type": "markdown",
   "metadata": {},
   "source": [
    "### 1055 : [기초-논리연산] 하나라도 참이면 참 출력하기(설명)\n"
   ]
  },
  {
   "cell_type": "code",
   "execution_count": 28,
   "metadata": {},
   "outputs": [
    {
     "name": "stdout",
     "output_type": "stream",
     "text": [
      "0 0\n",
      "0\n"
     ]
    },
    {
     "data": {
      "text/plain": [
       "[None]"
      ]
     },
     "execution_count": 28,
     "metadata": {},
     "output_type": "execute_result"
    }
   ],
   "source": [
    "a,b = input().split(\" \")\n",
    "[print(1) if (int(a) or int(b) )==1 else print(0)]"
   ]
  },
  {
   "cell_type": "markdown",
   "metadata": {},
   "source": [
    "### 1060 : [기초-비트단위논리연산] 비트단위로 AND 하여 출력하기(설명)"
   ]
  },
  {
   "cell_type": "code",
   "execution_count": 5,
   "metadata": {},
   "outputs": [
    {
     "name": "stdout",
     "output_type": "stream",
     "text": [
      "13 9\n",
      "9\n"
     ]
    }
   ],
   "source": [
    "a , b = input().split(\" \")\n",
    "print(int(a)&int(b))"
   ]
  },
  {
   "cell_type": "markdown",
   "metadata": {},
   "source": [
    "### 1061 : [기초-비트단위논리연산] 비트단위로 OR 하여 출력하기(설명)\n"
   ]
  },
  {
   "cell_type": "code",
   "execution_count": 6,
   "metadata": {},
   "outputs": [
    {
     "name": "stdout",
     "output_type": "stream",
     "text": [
      "3 5\n",
      "7\n"
     ]
    }
   ],
   "source": [
    "a,b = input().split(\" \")\n",
    "print(int(a)|int(b))"
   ]
  },
  {
   "cell_type": "markdown",
   "metadata": {},
   "source": [
    "### 1062 : [기초-비트단위논리연산] 비트단위로 XOR 하여 출력하기(설명)"
   ]
  },
  {
   "cell_type": "code",
   "execution_count": 7,
   "metadata": {},
   "outputs": [
    {
     "name": "stdout",
     "output_type": "stream",
     "text": [
      "3 5\n",
      "6\n"
     ]
    }
   ],
   "source": [
    "a,b = input().split(\" \")\n",
    "print(int(a)^int(b))"
   ]
  },
  {
   "cell_type": "markdown",
   "metadata": {},
   "source": [
    "### 1063 : [기초-삼항연산] 두 정수 입력받아 큰 수 출력하기(설명)"
   ]
  },
  {
   "cell_type": "code",
   "execution_count": 30,
   "metadata": {},
   "outputs": [
    {
     "name": "stdout",
     "output_type": "stream",
     "text": [
      "1 3\n",
      "3\n"
     ]
    },
    {
     "data": {
      "text/plain": [
       "[None]"
      ]
     },
     "execution_count": 30,
     "metadata": {},
     "output_type": "execute_result"
    }
   ],
   "source": [
    "a,b = input().split(\" \")\n",
    "[print(a) if int(a)>int(b) else print(b)]"
   ]
  },
  {
   "cell_type": "markdown",
   "metadata": {},
   "source": [
    "### 1064 : [기초-삼항연산] 정수 3개 입력받아 가장 작은 수 출력하기(설명)\n"
   ]
  },
  {
   "cell_type": "code",
   "execution_count": 16,
   "metadata": {},
   "outputs": [
    {
     "name": "stdout",
     "output_type": "stream",
     "text": [
      "3 5 1\n",
      "1\n"
     ]
    }
   ],
   "source": [
    "list_abc=input().split(\" \")\n",
    "print(min(list(map(int,list_abc))))"
   ]
  },
  {
   "cell_type": "markdown",
   "metadata": {},
   "source": [
    "### 1065 : [기초-조건/선택실행구조] 정수 3개 입력받아 짝수만 출력하기(설명)\n"
   ]
  },
  {
   "cell_type": "code",
   "execution_count": 36,
   "metadata": {},
   "outputs": [
    {
     "name": "stdout",
     "output_type": "stream",
     "text": [
      "2 4 6\n",
      "2\n",
      "4\n",
      "6\n"
     ]
    }
   ],
   "source": [
    "a,b,c = input().split(\" \")\n",
    "if int(a)%2== 0:\n",
    "    print(a)\n",
    "if int(b)%2== 0:\n",
    "    print(b)\n",
    "if int(c)%2== 0:\n",
    "    print(c)"
   ]
  },
  {
   "cell_type": "markdown",
   "metadata": {},
   "source": [
    "### 1066 : [기초-조건/선택실행구조] 정수 3개 입력받아 짝/홀 출력하기(설명)\n"
   ]
  },
  {
   "cell_type": "code",
   "execution_count": 38,
   "metadata": {},
   "outputs": [
    {
     "name": "stdout",
     "output_type": "stream",
     "text": [
      "2 4 3\n",
      "even\n",
      "even\n",
      "odd\n"
     ]
    }
   ],
   "source": [
    "a,b,c = input().split(\" \")\n",
    "if int(a)%2==0:\n",
    "    print(\"even\")\n",
    "else: \n",
    "    print(\"odd\")\n",
    "if int(b)%2==0:\n",
    "    print(\"even\")\n",
    "else: \n",
    "    print(\"odd\")\n",
    "if int(c)%2==0:\n",
    "    print(\"even\")\n",
    "else: \n",
    "    print(\"odd\")"
   ]
  },
  {
   "cell_type": "markdown",
   "metadata": {},
   "source": [
    "### 1067 : [기초-조건/선택실행구조] 정수 1개 입력받아 분석하기(설명)\n"
   ]
  },
  {
   "cell_type": "code",
   "execution_count": 45,
   "metadata": {},
   "outputs": [
    {
     "name": "stdout",
     "output_type": "stream",
     "text": [
      "-5\n",
      "minus\n",
      "odd\n"
     ]
    }
   ],
   "source": [
    "num = int(input())\n",
    "print('plus') if num > 0  else print('minus' )\n",
    "print('even') if num%2==0 else print('odd')"
   ]
  },
  {
   "cell_type": "markdown",
   "metadata": {},
   "source": [
    "### 1068 : [기초-조건/선택실행구조] 정수 1개 입력받아 평가 출력하기(설명)\n"
   ]
  },
  {
   "cell_type": "code",
   "execution_count": 47,
   "metadata": {},
   "outputs": [
    {
     "name": "stdout",
     "output_type": "stream",
     "text": [
      "58\n",
      "C\n"
     ]
    }
   ],
   "source": [
    "score = int(input())\n",
    "print(\"A\") if score>=90 else print(\"B\") if score>=70 else print(\"C\") if score >= 40 else print(\"D\")\n"
   ]
  },
  {
   "cell_type": "markdown",
   "metadata": {},
   "source": [
    "### 1069 : [기초-조건/선택실행구조] 평가 입력받아 다르게 출력하기(설명)\n"
   ]
  },
  {
   "cell_type": "code",
   "execution_count": 56,
   "metadata": {},
   "outputs": [
    {
     "ename": "SyntaxError",
     "evalue": "invalid syntax (<ipython-input-56-18acfedbed34>, line 2)",
     "output_type": "error",
     "traceback": [
      "\u001b[1;36m  File \u001b[1;32m\"<ipython-input-56-18acfedbed34>\"\u001b[1;36m, line \u001b[1;32m2\u001b[0m\n\u001b[1;33m    print('best!!!') if rank == \"A\" print(\"good!!\") if rank==\"B\" print(\"run!\") if rank==\"C\" print(\"slowly~\") if rank==\"D\" else print(\"what?\")\u001b[0m\n\u001b[1;37m                                    ^\u001b[0m\n\u001b[1;31mSyntaxError\u001b[0m\u001b[1;31m:\u001b[0m invalid syntax\n"
     ]
    }
   ],
   "source": [
    "rank = input()\n",
    "print('best!!!') if rank == \"A\" else print(\"good!!\") if rank==\"B\" else print(\"run!\") if rank==\"C\" else print(\"slowly~\") if rank==\"D\" else print(\"what?\")"
   ]
  },
  {
   "cell_type": "markdown",
   "metadata": {},
   "source": [
    "### 1070 : [기초-조건/선택실행구조] 월 입력받아 계절 출력하기(설명)"
   ]
  },
  {
   "cell_type": "code",
   "execution_count": 17,
   "metadata": {},
   "outputs": [
    {
     "name": "stdout",
     "output_type": "stream",
     "text": [
      "4\n",
      "winter\n"
     ]
    }
   ],
   "source": [
    "season = int(input())\n",
    "\n",
    "if (season == 12 or 1 or 2):\n",
    "    print(\"winter\") \n",
    "elif (season== 3 or 4 or 5):\n",
    "    print(\"spring\") \n",
    "elif season== (6 or 7 or 8):\n",
    "    print(\"summer\") \n",
    "else:\n",
    "    print(\"fall\")"
   ]
  },
  {
   "cell_type": "markdown",
   "metadata": {},
   "source": [
    "### "
   ]
  }
 ],
 "metadata": {
  "kernelspec": {
   "display_name": "Python 3",
   "language": "python",
   "name": "python3"
  },
  "language_info": {
   "codemirror_mode": {
    "name": "ipython",
    "version": 3
   },
   "file_extension": ".py",
   "mimetype": "text/x-python",
   "name": "python",
   "nbconvert_exporter": "python",
   "pygments_lexer": "ipython3",
   "version": "3.8.3"
  }
 },
 "nbformat": 4,
 "nbformat_minor": 4
}
