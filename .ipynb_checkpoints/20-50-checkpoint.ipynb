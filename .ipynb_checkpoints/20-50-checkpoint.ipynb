{
 "cells": [
  {
   "cell_type": "markdown",
   "metadata": {},
   "source": [
    "### 1021 : [기초-입출력] 단어 1개 입력받아 그대로 출력하기(설명)\n",
    "1개의 단어를 입력받아 그대로 출력해보자.\n"
   ]
  },
  {
   "cell_type": "code",
   "execution_count": 5,
   "metadata": {},
   "outputs": [
    {
     "name": "stdout",
     "output_type": "stream",
     "text": [
      "1 2 3 4 5 \n",
      "['1', '2', '3', '4', '5', '']\n"
     ]
    }
   ],
   "source": [
    "A = [x for x in input().split(\" \")]\n",
    "print(A)"
   ]
  },
  {
   "cell_type": "markdown",
   "metadata": {},
   "source": [
    "### 1022 : [기초-입출력] 문장 1개 입력받아 그대로 출력하기(설명)\n",
    "공백 문자가 포함되어 있는 문장을 입력받고 그대로 출력하는 연습을 해보자.\n",
    "\n",
    "예시\n",
    "char data[2001];\n",
    "fgets(data, 2000, stdin);\n",
    "printf(\"%s\", data);\n",
    "\n",
    "위와 같이 실행하면 공백이 포함된 문장을 키보드(stdin)로 입력받아\n",
    "최대 2000자까지 data[ ] 공간에 저장하고 출력할 수 있다.\n",
    "\n",
    "%s 는 문자열(string, 실로 연결된 문자들. 문장)로 출력하라는 의미이다.\n",
    "\n",
    "참고\n",
    "fgets( ) 를 사용하면 공백문자가 포함되어잇는 문장을 입력받아 저장할 수 있다.\n",
    "만약, 아래처럼\n",
    "scanf(\"%s\", ... ) 를 이용해 문장을 입력받으면, 첫 번째 단어까지만 저장된다.\n",
    "\n",
    "char data[51] = \"\"; //최대 50문자까지 저장 가능\n",
    "scanf(\"%s\", data);"
   ]
  },
  {
   "cell_type": "code",
   "execution_count": 9,
   "metadata": {},
   "outputs": [
    {
     "name": "stdout",
     "output_type": "stream",
     "text": [
      "안녕하세요\n",
      "안녕하세요\n"
     ]
    }
   ],
   "source": [
    "print(input())"
   ]
  },
  {
   "cell_type": "markdown",
   "metadata": {},
   "source": [
    "### 1023 : [기초-입출력] 실수 1개 입력받아 부분별로 출력하기(설명)\n",
    "실수 1개를 입력받아 정수 부분과 실수 부분으로 나누어 출력한다.\n",
    "\n",
    "** 여러 가지 방법들로 해결할 수 있다.\n",
    "\n",
    "만약 실수 부분이 0으로 시작하지 않는다면(예를 들어 1.000009)\n",
    "scanf(\"%d.%d\", &a, &b)도 하나의 방법이 될 수 있다.\n"
   ]
  },
  {
   "cell_type": "code",
   "execution_count": 16,
   "metadata": {},
   "outputs": [
    {
     "name": "stdout",
     "output_type": "stream",
     "text": [
      "3.14\n",
      "3\n",
      "14\n"
     ]
    }
   ],
   "source": [
    "listA = input().split(\".\")\n",
    "print(listA[0])\n",
    "print(listA[1])"
   ]
  },
  {
   "cell_type": "markdown",
   "metadata": {},
   "source": [
    "### 1024 : [기초-입출력] 단어 1개 입력받아 나누어 출력하기(설명)\n",
    "단어를 1개 입력받는다.\n",
    "\n",
    "입력받은 단어(영어)의 각 문자를\n",
    "\n",
    "한줄에 한 문자씩 분리해 출력한다.\n",
    "\n",
    "\n",
    "참고\n",
    "C언어에서는 문장을 저장하기 위해 특별한 방법을 사용하지 않고,\n",
    "배열이라는 연속된 공간에 문자들을 연속으로 한 개씩 저장하는 방법을 사용한다.\n",
    "단, 문자열(문자가 연속적으로 연결된 줄이라는 의미. 즉 문장)의 마지막임을 나타내기 위해\n",
    "문자열의 마지막에 널(NULL) 문자라는 특별한 의미를 가지는 문자를 삽입해 문장임을 나타낸다.\n",
    "\n",
    "널(NULL)은 영어 단어 자체의 의미로는, 아무런 가치가 없는 또는 아무것도 없는, 사용되지 않은 등의 의미를 가지는데,\n",
    "\n",
    "문자로는 '\\0', 아스키문자의 정수값은 0을 의미하며 NULL 로도 사용할 수 있다.\n",
    "\n",
    "단어나 문장을 scanf(\"%s\", ...); 로 입력받게 되면, 그 마지막에 널문자가 자동으로 입력되는 것이다.\n",
    "\n",
    "그러므로, 본 문제는 그렇게 저장되어있는 영문자들을 한 개씩 순차적으로 검사해서,\n",
    "\n",
    "문장의 마지막을 나타내는 널문자가 나올 때까지 모양을 만들어 출력하면 되는 것이다.\n",
    "\n",
    "나중에 조건실행문, 반복문, 배열에 대해서 배우면 명확히 이해할 수 있게 된다.\n",
    "\n",
    "printf(\"%s\", ...); 는 결국, 저장되어있는 문자의 마지막까지, 즉 널문자가 나올 때까지 형식에 맞추어 출력해 주라는 의미를 가진다.\n",
    "\n",
    "\n",
    "예시\n",
    "char d[30]; //최대 30문자를 저장할 수 있는 저장 공간 준비. 마지막에 널문자 고려해야함\n",
    "scanf(\"%s\", d); //그 공간에 키보드로 입력된 내용을 저장. 단 공백이 있으면 거기까지만 입력됨.\n",
    "for(i=0; d[i]!='\\0'; i++) //저장된 내용을 하나하나씩 검사해서 널문자가 아닐 동안 아래 실행\n",
    "{\n",
    "   printf(\"\\'%c\\'\", d[i]);"
   ]
  },
  {
   "cell_type": "code",
   "execution_count": 30,
   "metadata": {},
   "outputs": [
    {
     "name": "stdout",
     "output_type": "stream",
     "text": [
      "apple\n",
      "'a'\n",
      "'p'\n",
      "'p'\n",
      "'l'\n",
      "'e'\n",
      "\n",
      "\n"
     ]
    }
   ],
   "source": [
    "list_text = list(str(input()))\n",
    "for i in range(len(list_text)):\n",
    "    print(\"'\"+list_text[i]+\"'\")\n",
    "print(\"\\n\")"
   ]
  },
  {
   "cell_type": "code",
   "execution_count": null,
   "metadata": {},
   "outputs": [],
   "source": [
    "a=input()\n",
    "for i in range(len(a)):\n",
    "    print(\"'\"+a[i]+\"'\")"
   ]
  },
  {
   "cell_type": "markdown",
   "metadata": {},
   "source": [
    "### 1025 : [기초-입출력] 정수 1개 입력받아 나누어 출력하기(설명)\n",
    "다섯 자리의 정수 1개를 입력받아 각 자리별로 나누어 출력한다.\n",
    "\n",
    "참고\n",
    "scanf(\"%1d%1d%1d%1d%1d\", &a, &b, &c, &d, &e);\n",
    "를 사용하면 1개의 숫자로 각각 구분되어 저장된다.\n",
    "\n",
    "예시\n",
    "읽어들인 값을 적당히 바꿔 출력하기 위해서\n",
    "\n",
    "printf(\"[%d]\", a*10000);\n",
    "\n",
    "과 같은 방법도 가능하다.\n"
   ]
  },
  {
   "cell_type": "code",
   "execution_count": 32,
   "metadata": {},
   "outputs": [
    {
     "name": "stdout",
     "output_type": "stream",
     "text": [
      "54321\n",
      "[50000]\n",
      "[4000]\n",
      "[300]\n",
      "[20]\n",
      "[1]\n"
     ]
    }
   ],
   "source": [
    "in_int=list(str(input()))\n",
    "print(\"[\"+in_int[0]+\"0000\"+\"]\")\n",
    "print(\"[\"+in_int[1]+\"000\"+\"]\")\n",
    "print(\"[\"+in_int[2]+\"00\"+\"]\")\n",
    "print(\"[\"+in_int[3]+\"0\"+\"]\")\n",
    "print(\"[\"+in_int[4]+\"]\")"
   ]
  },
  {
   "cell_type": "markdown",
   "metadata": {},
   "source": [
    "### 1026 : [기초-입출력] 시분초 입력받아 분만 출력하기(설명)\n",
    "입력되는 시:분:초 에서 분만 출력해보자.\n",
    "\n",
    "참고\n",
    "int h, m, s;\n",
    "scanf(\"%d:%d:%d\", &h, &m, &s);\n",
    "\n",
    "를 실행하면 콜론을 사이에 둔 형식으로 입력되어, h, m, s에 각각 정수값만 저장된다.\n",
    "\n",
    "\n"
   ]
  },
  {
   "cell_type": "code",
   "execution_count": 6,
   "metadata": {},
   "outputs": [
    {
     "name": "stdout",
     "output_type": "stream",
     "text": [
      "2:2:2\n",
      "02\n"
     ]
    }
   ],
   "source": [
    "list_time = list(input().split(\":\"))\n",
    "print('%02d'%int(list_time[1]))"
   ]
  },
  {
   "cell_type": "markdown",
   "metadata": {},
   "source": [
    "### 1027 : [기초-입출력] 년월일 입력 받아 형식 바꿔 출력하기(설명)\n",
    "\n",
    "년월일을 출력하는 방법은 나라마다, 형식마다 조금씩 다르다.\n",
    "\n",
    "년월일(yyyy.mm.dd)를 입력받아,\n",
    "\n",
    "일월년(dd-mm-yyyy)로 출력해보자.\n",
    "\n",
    "(단, 한 자리 일/월은 0을 붙여 두자리로, 년도도 0을 붙여 네자리로 출력한다.) \n",
    "\n",
    "\n",
    "참고\n",
    "출력하는 자리수를 지정하기 위해 %4d와 같은 형식을 사용할 수 있는데,\n",
    "빈칸을 0으로 출력하기 위해서는 %04d와 같은 형식을 사용하면 된다.\n",
    "\n",
    "예시\n",
    "printf(\"%02d-%02d-%04d\", d, m, y);"
   ]
  },
  {
   "cell_type": "code",
   "execution_count": 8,
   "metadata": {},
   "outputs": [
    {
     "name": "stdout",
     "output_type": "stream",
     "text": [
      "2020.10.1\n",
      "01-10-2020\n"
     ]
    }
   ],
   "source": [
    "list_date = input().split(\".\")\n",
    "print('%02d'%int(list_date[2]),'%02d'%int(list_date[1]),'%04d'%int(list_date[0]),sep=\"-\")"
   ]
  },
  {
   "cell_type": "markdown",
   "metadata": {},
   "source": [
    "### 1028 : [기초-데이터형] 정수 1개 입력받아 그대로 출력하기2(설명)\n",
    "\n",
    "정수 1개를 입력받아 그대로 출력해보자.\n",
    "(단, 입력되는 정수의 범위는 0 ~ 4,294,967,295 이다.)\n",
    "\n",
    "참고\n",
    "-2147483648 ~ +2147483647 범위의 정수를 저장하고 처리하기 위해서는\n",
    "int 형으로 변수를 선언하면 된다.(int 로 선언하고 %d로 받고 출력)\n",
    "\n",
    "하지만 이 범위를 넘어가는 정수를 저장하기 위해서는\n",
    "보다 큰 범위를 저장할 수 있는 다른 데이터형을 사용해야 정상적으로 저장시킬 수 있다.\n",
    "\n",
    "unsigned int 데이터형을 사용하면 0 ~ 4294967295 범위의 정수를 저장할 수 있다.\n",
    "\n",
    "\n",
    "예시\n",
    "unsigned int n;\n",
    "scanf(\"%u\", &n);\n",
    "printf(\"%u\", n);"
   ]
  },
  {
   "cell_type": "code",
   "execution_count": 9,
   "metadata": {},
   "outputs": [
    {
     "name": "stdout",
     "output_type": "stream",
     "text": [
      "93847590827340987590287349079283746908237546\n",
      "93847590827340987590287349079283746908237546\n"
     ]
    }
   ],
   "source": [
    "print(input())"
   ]
  },
  {
   "cell_type": "markdown",
   "metadata": {},
   "source": [
    "### 1029 : [기초-데이터형] 실수 1개 입력받아 그대로 출력하기2(설명)\n",
    "실수 1개를 입력받아 그대로 출력해보자.\n",
    "(단, 입력되는 실수의 범위는 +- 1.7*10-308 ~ +- 1.7*10308 이다.)\n",
    "\n",
    "참고\n",
    "float 데이터형을 사용하면 +- 3.4*10-38 ~ +- 3.4*1038 범위의 실수를 저장할 수 있다.\n",
    "(float 로 선언하고 %f로 입력 받아 출력하면 된다.)\n",
    "\n",
    "이 범위를 넘어가는(더 작거나 더 큰) 실수를 저장하기 위해서는\n",
    "보다 큰 범위를 저장할 수 있는 다른 데이터형을 사용해야 정상적으로 저장시킬 수 있다.\n",
    "double은 더 정확하게 저장할 수 있지만, float보다 2배의 저장 공간이 필요하다.\n",
    "\n",
    "double 데이터형을 사용하면\n",
    "+- 1.7*10-308 ~ +- 1.7*10308 범위의 실수를 저장할 수 있다.\n",
    "\n",
    "\n",
    "예시\n",
    "double d;\n",
    "scanf(\"%lf\", &d); // double(long float) 형식으로 입력\n",
    "printf(\"%lf\", d);\n",
    "\n"
   ]
  },
  {
   "cell_type": "code",
   "execution_count": 12,
   "metadata": {},
   "outputs": [
    {
     "name": "stdout",
     "output_type": "stream",
     "text": [
      "123.23948570293847590283749058273904587293045702345234\n",
      "123.23948570294\n"
     ]
    }
   ],
   "source": [
    "print('%.11f'%float(input()))"
   ]
  },
  {
   "cell_type": "markdown",
   "metadata": {},
   "source": [
    "### 1030 : [기초-데이터형] 정수 1개 입력받아 그대로 출력하기3(설명)\n",
    "정수 1개를 입력받아 그대로 출력해보자.\n",
    "단, 입력되는 정수의 범위는\n",
    "-9,223,372,036,854,775,808 ~ +9,223,372,036,854,775,807 이다.\n",
    "\n",
    "참고\n",
    "-2147483648 ~ +2147483647 범위의 정수를 저장하고 처리하기 위해서는\n",
    "int 데이터형을 사용해 변수를 선언하면 된다.\n",
    "(int 로 선언하고 %d로 입력받아 저장하고, 출력하면 된다.)\n",
    "\n",
    "int 형으로 저장할 수 있는 범위를 넘어가는 정수 값을 저장하기 위해서는\n",
    "보다 큰 범위를 저장할 수 있는 다른 데이터형을 사용해야 한다.\n",
    "\n",
    "long long int 데이터형을 사용하면\n",
    "-9,223,372,036,854,775,808 ~ +9,223,372,036,854,775,807 범위의 정수값을\n",
    "저장시킬 수 있다.\n",
    "\n",
    "\n",
    "예시\n",
    "long long int n;\n",
    "scanf(\"%lld\", &n);\n",
    "printf(\"%lld\", n);\n"
   ]
  },
  {
   "cell_type": "code",
   "execution_count": 15,
   "metadata": {},
   "outputs": [
    {
     "name": "stdout",
     "output_type": "stream",
     "text": [
      "98270394852039847502346592873465982734659872345\n",
      "98270394852039847502346592873465982734659872345\n"
     ]
    }
   ],
   "source": [
    "print(int(input()))"
   ]
  },
  {
   "cell_type": "markdown",
   "metadata": {},
   "source": [
    "### 1031 : [기초-출력변환] 10진 정수 1개 입력받아 8진수로 출력하기(설명)\n",
    "10진수를 입력받아 8진수(octal)로 출력해보자.\n",
    "\n",
    "참고\n",
    "%d(10진수 형태)로 입력받고,\n",
    "%o를 사용해 출력하면 8진수(octal)로 출력된다."
   ]
  },
  {
   "cell_type": "code",
   "execution_count": 19,
   "metadata": {},
   "outputs": [
    {
     "name": "stdout",
     "output_type": "stream",
     "text": [
      "10\n",
      "12\n"
     ]
    }
   ],
   "source": [
    "print('%o'%int(input()))"
   ]
  },
  {
   "cell_type": "markdown",
   "metadata": {},
   "source": [
    "### 1032 : [기초-출력변환] 10진 정수 입력받아 16진수로 출력하기1(설명)\n",
    "10진수를 입력받아 16진수(hexadecimal)로 출력해보자.\n",
    "\n",
    "참고\n",
    "%d(10진수 형태)로 입력받고\n",
    "%x로 출력하면 16진수(hexadecimal) 소문자로 출력된다.\n",
    "\n",
    "10진법은 한 자리에 10개(0 1 2 3 4 5 6 7 8 9)의 문자를 사용하고,\n",
    "16진법은 한 자리에 16개(0 1 2 3 4 5 6 7 8 9 a b c d e f)의 문자를 사용한다.\n",
    "16진수의 a는 10진수의 10, b는 11, c는 12 ... 와 같다.\n"
   ]
  },
  {
   "cell_type": "code",
   "execution_count": 21,
   "metadata": {},
   "outputs": [
    {
     "name": "stdout",
     "output_type": "stream",
     "text": [
      "17\n",
      "0x11\n"
     ]
    }
   ],
   "source": [
    "print(hex(int(input())))"
   ]
  },
  {
   "cell_type": "code",
   "execution_count": 33,
   "metadata": {},
   "outputs": [
    {
     "name": "stdout",
     "output_type": "stream",
     "text": [
      "255\n",
      "ff\n"
     ]
    }
   ],
   "source": [
    "print(\"%1x\"%int(input()))"
   ]
  },
  {
   "cell_type": "markdown",
   "metadata": {},
   "source": [
    "### 1033 : [기초-출력변환] 10진 정수 입력받아 16진수로 출력하기2(설명)\n",
    "10진수를 입력받아 16진수(hexadecimal)로 출력해보자.\n",
    "\n",
    "참고\n",
    "%d(10진수 형태)로 입력받고\n",
    "%X로 출력하면 16진수(hexadecimal) 대문자로 출력된다.\n",
    "\n",
    "10진법은 한 자리에 10개(0 1 2 3 4 5 6 7 8 9)의 문자를 사용하고,\n",
    "16진법은 한 자리에 16개(0 1 2 3 4 5 6 7 8 9 A B C D E F)의 문자를 사용한다.\n",
    "(알파벳 대소문자는 표현만 다르고 같은 값을 의미한다.)\n",
    "16진법의 A는 10진법의 10, B는 11, C는 12 ... 와 같다.\n"
   ]
  },
  {
   "cell_type": "code",
   "execution_count": 34,
   "metadata": {},
   "outputs": [
    {
     "name": "stdout",
     "output_type": "stream",
     "text": [
      "255\n",
      "FF\n"
     ]
    }
   ],
   "source": [
    "print(\"%1X\"%int(input()))"
   ]
  },
  {
   "cell_type": "markdown",
   "metadata": {},
   "source": [
    "### 1034 : [기초-출력변환] 8진 정수 1개 입력받아 10진수로 출력하기(설명)\n",
    "8진수로 입력된 정수 1개를 10진수로 바꾸어 출력해보자.\n",
    "\n",
    "참고\n",
    "%o로 입력받으면 8진수로 인식시켜 저장시킬 수 있다.\n",
    "%d로 출력하면 10진수로 출력된다.\n",
    "\n",
    "예시\n",
    "int n;\n",
    "scanf(\"%o\", &n);\n",
    "printf(\"%d\", n);\n",
    "(C언어에서 소스 코드 작성 시 0으로 시작하는 수는 8진수로 인식된다. int a = 013; // 10진수 11과 같은 값)"
   ]
  },
  {
   "cell_type": "code",
   "execution_count": 50,
   "metadata": {},
   "outputs": [
    {
     "name": "stdout",
     "output_type": "stream",
     "text": [
      "22\n",
      "18\n"
     ]
    }
   ],
   "source": [
    "print(int(input(),8))"
   ]
  },
  {
   "cell_type": "code",
   "execution_count": 51,
   "metadata": {},
   "outputs": [
    {
     "name": "stdout",
     "output_type": "stream",
     "text": [
      "1010101010101000001111\n",
      "2796047\n"
     ]
    }
   ],
   "source": [
    "print(int(input(),2))"
   ]
  },
  {
   "cell_type": "code",
   "execution_count": 52,
   "metadata": {
    "scrolled": true
   },
   "outputs": [
    {
     "name": "stdout",
     "output_type": "stream",
     "text": [
      "a6\n",
      "166\n"
     ]
    }
   ],
   "source": [
    "print(int(input(),16))"
   ]
  },
  {
   "cell_type": "markdown",
   "metadata": {},
   "source": [
    "### 1035 : [기초-출력변환] 16진 정수 1개 입력받아 8진수로 출력하기(설명)\n",
    "16진수로 입력된 정수 1개를 8진수로 바꾸어 출력해보자.\n",
    "\n",
    "참고\n",
    "%x(영문자 소문자) 나 %X(영문자 대문자)로 입력 받으면\n",
    "16진수로 인식시켜 저장시킬 수 있다. %o로 출력하면 8진수로 출력된다.\n",
    "\n",
    "C언어에서 소스 코드 작성시 0으로 시작하는 수는 8진수로 인식된다.\n",
    "또한 소스코드 내에서 //로 시작하면 1줄 설명을 넣을 수 있다.\n",
    "여러 줄을 설명(주석) 을 넣을 경우 /* 와 */ 사이에 작성하면 된다.\n",
    "\n",
    "예시\n",
    "int n;\n",
    "scanf(\"%x\", &n); //소문자로 16진수 입력\n",
    "printf(\"%o\", n);\n",
    "\n"
   ]
  },
  {
   "cell_type": "code",
   "execution_count": 57,
   "metadata": {},
   "outputs": [
    {
     "name": "stdout",
     "output_type": "stream",
     "text": [
      "a5\n",
      "245\n"
     ]
    }
   ],
   "source": [
    "print('%1o'%(int(input(),16)))"
   ]
  },
  {
   "cell_type": "markdown",
   "metadata": {},
   "source": [
    "### 1036 : [기초-출력변환] 영문자 1개 입력받아 10진수로 출력하기(설명)\n",
    "영문자 1개를 입력받아 아스키 코드표의 10진수 값으로 출력해보자.\n",
    "\n",
    "참고\n",
    "아스키 코드는\n",
    "(ASCII, 미국표준코드, American Standard Code for Information Interchange)\n",
    "영문자, 특수 문자 등을 저장할 때 사용하는 표준 코드이다.\n",
    "\n",
    "컴퓨터로 저장되는 모든 데이터는 2진 정수화되어 저장되는데,\n",
    "영문자와 특수기호 등을 저장하는 방법으로 아스키코드가 기본적으로 사용된다.\n",
    "\n",
    "예를 들어 영문 대문자 \"A\"는 10진수 65를 의미하는 2진수 값으로 저장된다.\n"
   ]
  },
  {
   "cell_type": "code",
   "execution_count": 58,
   "metadata": {},
   "outputs": [
    {
     "data": {
      "text/plain": [
       "13"
      ]
     },
     "execution_count": 58,
     "metadata": {},
     "output_type": "execute_result"
    }
   ],
   "source": [
    "int(a)"
   ]
  },
  {
   "cell_type": "code",
   "execution_count": 59,
   "metadata": {},
   "outputs": [
    {
     "name": "stdout",
     "output_type": "stream",
     "text": [
      "a\n",
      "97\n"
     ]
    }
   ],
   "source": [
    "print(ord(input()))"
   ]
  },
  {
   "cell_type": "markdown",
   "metadata": {},
   "source": [
    "### 1037 : [기초-출력변환] 정수 입력받아 아스키 문자로 출력하기\n",
    "\n",
    "10진 정수 1개를 입력받아 아스키 문자로 출력해보자.\n",
    "단, 0 ~ 255 범위의 정수만 입력된다.\n"
   ]
  },
  {
   "cell_type": "code",
   "execution_count": 64,
   "metadata": {},
   "outputs": [
    {
     "name": "stdout",
     "output_type": "stream",
     "text": [
      "66\n",
      "B\n"
     ]
    }
   ],
   "source": [
    "print(chr(int(input())))"
   ]
  },
  {
   "cell_type": "markdown",
   "metadata": {},
   "source": [
    "### 1038 : [기초-산술연산] 정수 2개 입력받아 합 출력하기1(설명)\n",
    "정수 2개를 입력받아 합을 출력하는 프로그램을 작성해보자.\n",
    "(단, 입력되는 정수는 -1073741824 ~ 1073741824 이다.)\n"
   ]
  },
  {
   "cell_type": "code",
   "execution_count": 75,
   "metadata": {},
   "outputs": [
    {
     "name": "stdout",
     "output_type": "stream",
     "text": [
      "123\n",
      "123\n",
      "246\n"
     ]
    }
   ],
   "source": [
    "num = ('%1d'%int(int(input())+int(input())))\n",
    "print(num)"
   ]
  },
  {
   "cell_type": "markdown",
   "metadata": {},
   "source": [
    "### 1039 : [기초-산술연산] 정수 2개 입력받아 합 출력하기2(설명)\n",
    "정수 2개를 입력받아 합을 출력해보자.\n",
    "단, 입력되는 정수는 -2147483648 ~ +2147483648 이다.\n",
    "\n",
    "참고\n",
    "+ 연산자를 사용하면 된다.\n",
    "단, 계산된 결과가 int 형으로 저장할 수 있는 범위를 넘어갈 수 있기 때문에 다른 데이터형을 사용해야 한다.\n",
    "\n",
    "주의\n",
    "int 데이터형은 %d로 입출력하고,\n",
    "long long int 데이터형은 %lld로 입출력한다."
   ]
  },
  {
   "cell_type": "code",
   "execution_count": 79,
   "metadata": {
    "scrolled": true
   },
   "outputs": [
    {
     "name": "stdout",
     "output_type": "stream",
     "text": [
      "123\n",
      "123\n",
      "246\n"
     ]
    }
   ],
   "source": [
    "a = int(input())\n",
    "b = int(input())\n",
    "c= a+b\n",
    "print(c)\n"
   ]
  },
  {
   "cell_type": "markdown",
   "metadata": {},
   "source": [
    "### 1040 : [기초-산술연산] 정수 1개 입력받아 부호 바꿔 출력하기(설명)\n",
    "입력된 정수의 부호를 바꿔 출력해보자.\n",
    "단, -2147483647 ~ +2147483647 범위의 정수가 입력된다.\n",
    "\n",
    "참고\n",
    "단항 연산자인 -(negative)를 변수 앞에 붙이면 부호가 반대로 바뀌어 계산된다.\n",
    "\n",
    "예시\n",
    "int a;\n",
    "scanf(\"%d\", &a);\n",
    "printf(\"%d\", -a);\n",
    "\n"
   ]
  },
  {
   "cell_type": "code",
   "execution_count": 78,
   "metadata": {},
   "outputs": [
    {
     "name": "stdout",
     "output_type": "stream",
     "text": [
      "0\n",
      "0\n"
     ]
    }
   ],
   "source": [
    "print(-1*int(input()))"
   ]
  },
  {
   "cell_type": "markdown",
   "metadata": {},
   "source": [
    "### 1041 : [기초-산술연산] 문자 1개 입력받아 다음 문자 출력하기(설명)\n",
    "영문자 1개를 입력받아 그 다음 문자를 출력해보자.\n",
    "\n",
    "영문자 'A'의 다음 문자는 'B'이고, 영문자 '0'의 다음 문자는 '1'이다.\n",
    "\n",
    "참고\n",
    "숫자는 수를 표현하는 문자로서 '0' 은 문자 그 자체를 의미하고, 0은 값을 의미한다.\n",
    "\n",
    "힌트\n",
    "아스키문자표에서 'A'는 10진수 65로 저장되고 'B'는 10진수 66으로 저장된다.\n",
    "따라서 문자도 값으로 덧셈을 할 수 있다.\n",
    "\n"
   ]
  },
  {
   "cell_type": "code",
   "execution_count": 88,
   "metadata": {},
   "outputs": [
    {
     "name": "stdout",
     "output_type": "stream",
     "text": [
      "A\n",
      "B\n"
     ]
    }
   ],
   "source": [
    "print(chr(ord(input())+1))"
   ]
  },
  {
   "cell_type": "code",
   "execution_count": 83,
   "metadata": {},
   "outputs": [
    {
     "data": {
      "text/plain": [
       "97"
      ]
     },
     "execution_count": 83,
     "metadata": {},
     "output_type": "execute_result"
    }
   ],
   "source": [
    "ord(\"a\")"
   ]
  },
  {
   "cell_type": "markdown",
   "metadata": {},
   "source": [
    "## 1042 : [기초-산술연산] 정수 2개 입력받아 나눈 몫 출력하기(설명)\n",
    "정수 2개(a, b) 를 입력받아 a를 b로 나눈 몫을 출력해보자.\n",
    "단, -2147483648 <= a <= b <= +2147483647, b는 0이 아니다.\n",
    "\n",
    "참고\n",
    "C언어에서 정수/정수 연산의 결과는 정수(몫)로 계산된다.\n",
    "실수/정수, 정수/실수, (float)정수/정수, 정수/(float)정수 등의 연산 결과는 실수 값으로 계산된다.\n",
    "\n",
    "(float)(정수/정수)는 정수/정수의 결과인 정수 값을 실수형(float)로 바꾸는 것으로,\n",
    "계산 결과인 정수 값이 실수 형태로 변환되는 것이니 주의해야 한다.\n",
    "\n",
    "정수/실수 계산결과가 자동으로 실수형으로 바뀌는 것을 묵시적 (데이터)형변환이라고 하고,\n",
    "어떤 값이나 결과의 데이터형을 강제로 바꾸는 것을 명시적 (데이터)형변환이라고 한다.\n",
    "\n",
    "int a;\n",
    "scanf(\"%d\", &a);\n",
    "printf(\"%f\", (float)a);\n",
    "\n",
    "와 같이 실행하면, 정수로 저장되어 있는 값을 실수형(float)으로 명시적으로 변환하여 출력한다.\n"
   ]
  },
  {
   "cell_type": "code",
   "execution_count": 91,
   "metadata": {},
   "outputs": [
    {
     "name": "stdout",
     "output_type": "stream",
     "text": [
      "100 3\n",
      "33\n"
     ]
    }
   ],
   "source": [
    "div_sor = list(input().split(\" \"))\n",
    "div = int(div_sor[0])//int(div_sor[1])\n",
    "print(int(div))"
   ]
  },
  {
   "cell_type": "markdown",
   "metadata": {},
   "source": [
    "### 1043 : [기초-산술연산] 정수 2개 입력받아 나눈 나머지 출력하기(설명)\n",
    "정수 2개(a, b) 를 입력받아 a를 b로 나눈 나머지를 출력해보자.\n",
    "단, 0 <= a, b <= +2147483647, b는 0이 아니다.\n",
    "\n",
    "참고\n",
    "C언어에서 정수%정수 연산의 결과는 나눈 나머지로 계산된다.\n",
    "\n",
    "% 연산자(modulus, mod 연산) 수학자 가우스가 생각해낸 연산으로,\n",
    "어떤 정수를 다른 정수로 나누고 난 후 남는 나머지를 계산하는 연산이다.\n",
    "\n",
    "단, 음(-)이 아닌 정수에 대해서만 연산된다."
   ]
  },
  {
   "cell_type": "code",
   "execution_count": 93,
   "metadata": {},
   "outputs": [
    {
     "name": "stdout",
     "output_type": "stream",
     "text": [
      "100 3\n",
      "1\n"
     ]
    }
   ],
   "source": [
    "div_sor = list(input().split(\" \"))\n",
    "div = int(div_sor[0])%int(div_sor[1])\n",
    "print(int(div))"
   ]
  },
  {
   "cell_type": "code",
   "execution_count": 98,
   "metadata": {},
   "outputs": [
    {
     "name": "stdout",
     "output_type": "stream",
     "text": [
      "1 5\n",
      "1\n"
     ]
    }
   ],
   "source": [
    "a,b = input().split()\n",
    "print(int(a)%int(b))"
   ]
  },
  {
   "cell_type": "markdown",
   "metadata": {},
   "source": [
    "### 1044 : [기초-산술연산] 정수 1개 입력받아 1 더해 출력하기(설명)\n",
    "정수를 1개 입력받아 1만큼 더해 출력해보자.\n",
    "단, -2147483648 ~ +2147483647 의 범위로 입력된다.\n",
    "\n",
    "주의\n",
    "계산되고 난 후의 값의 범위(데이터형)에 주의한다.\n",
    "\n",
    "참고\n",
    "어떤 변수(a)에 값을 저장한 후 a+1 의 값을 출력할 수도 있고,\n",
    "++a 연산을 한 후에 출력할 수도 있다.\n",
    "\n",
    "++a, --a, a++, a-- 와 같이 어떤 변수의 앞이나 뒤에 붙여\n",
    "변수에 저장되어있는 값을 1만큼 더하거나 빼주는 연산자를 증감연산자라고 한다.\n",
    "\n",
    "증감연산자를 변수 앞에 붙이면 그 변수를 사용하기 전에 증감을 먼저 수행하고,\n",
    "증감연산자를 변수 뒤에 붙이면 일단 변수에 저장되어있는 값을 먼저 사용하고 난 후\n",
    "나중에 증감을 수행한다.\n"
   ]
  },
  {
   "cell_type": "code",
   "execution_count": 99,
   "metadata": {},
   "outputs": [
    {
     "name": "stdout",
     "output_type": "stream",
     "text": [
      "5\n",
      "6\n"
     ]
    }
   ],
   "source": [
    "print(int(input())+1)"
   ]
  },
  {
   "cell_type": "markdown",
   "metadata": {},
   "source": [
    "### 1045 : [기초-산술연산] 정수 2개 입력받아 자동 계산하기\n",
    "정수 2개(a, b)를 입력받아 합, 차, 곱, 몫, 나머지, 나눈 값을 자동으로 계산해보자.\n",
    "단 0 <= a, b <= 2147483647, b는 0이 아니다.\n",
    "(실수, 소수점 이하 셋째 자리에서 반올림해 둘째 자리까지 출력)"
   ]
  },
  {
   "cell_type": "code",
   "execution_count": 105,
   "metadata": {},
   "outputs": [
    {
     "name": "stdout",
     "output_type": "stream",
     "text": [
      "100 10\n",
      "110\n",
      "90\n",
      "1000\n",
      "10\n",
      "0\n",
      "10.00\n"
     ]
    }
   ],
   "source": [
    "a,b = input().split()\n",
    "print((int(a)+int(b)))\n",
    "print((int(a)-int(b)))\n",
    "print((int(a)*int(b)))\n",
    "print((int(a)//int(b)))\n",
    "print((int(a)%int(b)))\n",
    "print('%.2f'%(int(a)/int(b)))"
   ]
  },
  {
   "cell_type": "markdown",
   "metadata": {},
   "source": [
    "### 1046 : [기초-산술연산] 정수 3개 입력받아 합과 평균 출력하기\n",
    "정수 3개를 입력받아 합과 평균을 출력해보자.\n",
    "단, -2147483648 ~ +2147483647\n",
    "합과 평균을 줄을 바꿔 출력한다.\n",
    "평균은 소수점 이하 둘째 자리에서 반올림해서 소수점 이하 첫째 자리까지 출력한다.\n"
   ]
  },
  {
   "cell_type": "code",
   "execution_count": 109,
   "metadata": {},
   "outputs": [
    {
     "name": "stdout",
     "output_type": "stream",
     "text": [
      "1 2 3\n",
      "6\n",
      "2.00\n"
     ]
    }
   ],
   "source": [
    "a,b,c = list(input().split())\n",
    "print(int(a)+int(b)+int(c))\n",
    "print('%0.1f'%((int(a)+int(b)+int(c))/3))"
   ]
  },
  {
   "cell_type": "markdown",
   "metadata": {},
   "source": [
    "### 1047 : [기초-비트시프트연산] 정수 1개 입력받아 2배 곱해 출력하기(설명)\n",
    "정수 1개를 입력받아 2배 곱해 출력해보자.\n",
    "\n",
    "참고\n",
    "*2 의 값을 출력해도 되지만,\n",
    "정수를 2배로 곱하거나 나누어 계산해 주는 비트단위시프트연산자 <<, >>를 이용한다.\n",
    "\n",
    "2진수 형태로 저장되어 있는 값들을 왼쪽(<<)이나 오른쪽(>>)으로\n",
    "지정한 비트 수만큼 밀어주면 2배씩 늘어나거나 반으로 줄어드는데,\n",
    "\n",
    "왼쪽 비트시프트(<<)가 될 때에는 오른쪽에 0이 주어진 개수만큼 추가되고,\n",
    "\n",
    "오른쪽 비트시프트(>>)가 될 때에는\n",
    "왼쪽에 0(0 또는 양의 정수인 경우)이나 1(음의 정수인 경우)이 개수만큼 추가된다.\n",
    "\n",
    "범위(32비트)를 넘어서 이동되는 비트는 삭제된다.\n",
    "\n",
    "예시\n",
    "int a=10;\n",
    "printf(\"%d\", a<<1); //10을 2배 한 값인 20 이 출력된다.\n",
    "printf(\"%d\", a>>1); //10을 반으로 나눈 값인 5 가 출력된다.\n",
    "printf(\"%d\", a<<2); //10을 4배 한 값인 40 이 출력된다.\n",
    "printf(\"%d\", a>>2); //10을 반으로 나눈 후 다시 반으로 나눈 값인 2 가 출력된다."
   ]
  },
  {
   "cell_type": "code",
   "execution_count": 116,
   "metadata": {},
   "outputs": [
    {
     "name": "stdout",
     "output_type": "stream",
     "text": [
      "12450\n",
      "24900\n"
     ]
    }
   ],
   "source": [
    "print(int(input())*2)"
   ]
  },
  {
   "cell_type": "markdown",
   "metadata": {},
   "source": [
    "### 1048 : [기초-비트시프트연산] 한 번에 2의 거듭제곱 배로 출력하기(설명)\n",
    "정수 2개(a, b)를 입력받아 a를 2b배 곱한 값으로 출력해보자.\n",
    "0 <= a <= 10, 0 <= b <= 10\n",
    "\n",
    "\n",
    "참고\n",
    "예를 들어 1 3 이 입력되면 1을 23(8)배 하여 출력한다.\n",
    "\n",
    "예시\n",
    "int a=1, b=10;\n",
    "printf(\"%d\", a << b); //210 = 1024 가 출력된다.\n",
    "a 를 2b배 만큼 곱한 값을 출력한다."
   ]
  },
  {
   "cell_type": "code",
   "execution_count": 118,
   "metadata": {},
   "outputs": [
    {
     "name": "stdout",
     "output_type": "stream",
     "text": [
      "2 5\n",
      "64\n"
     ]
    }
   ],
   "source": [
    "a, b = input().split()\n",
    "print(int(a)*2**int(b))"
   ]
  },
  {
   "cell_type": "markdown",
   "metadata": {},
   "source": [
    "### 1049 : [기초-비교연산] 두 정수 입력받아 비교하기1(설명)\n"
   ]
  },
  {
   "cell_type": "code",
   "execution_count": 120,
   "metadata": {},
   "outputs": [
    {
     "name": "stdout",
     "output_type": "stream",
     "text": [
      "5 3\n",
      "1\n"
     ]
    }
   ],
   "source": [
    "a,b = input().split()\n",
    "c= int(a)-int(b)\n",
    "if c>0:\n",
    "    print(1)\n",
    "else:\n",
    "    print(0)"
   ]
  },
  {
   "cell_type": "markdown",
   "metadata": {},
   "source": [
    "### 1050 : [기초-비교연산] 두 정수 입력받아 비교하기2(설명)"
   ]
  },
  {
   "cell_type": "code",
   "execution_count": null,
   "metadata": {},
   "outputs": [],
   "source": [
    "a,b = input().split()\n",
    "c= int(a)-int(b)\n",
    "if c==0:\n",
    "    print(1)\n",
    "else:\n",
    "    print(0)"
   ]
  }
 ],
 "metadata": {
  "kernelspec": {
   "display_name": "Python 3",
   "language": "python",
   "name": "python3"
  },
  "language_info": {
   "codemirror_mode": {
    "name": "ipython",
    "version": 3
   },
   "file_extension": ".py",
   "mimetype": "text/x-python",
   "name": "python",
   "nbconvert_exporter": "python",
   "pygments_lexer": "ipython3",
   "version": "3.8.3"
  }
 },
 "nbformat": 4,
 "nbformat_minor": 4
}
