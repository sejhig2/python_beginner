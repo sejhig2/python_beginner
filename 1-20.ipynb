{
 "cells": [
  {
   "cell_type": "markdown",
   "metadata": {},
   "source": [
    "### C/C++언어에서 가장 기본적인 명령이 출력문이다.\n",
    "printf()를 이용해 다음 단어를 출력하시오.\n",
    "\n",
    "Hello\n",
    "\n",
    "참고\n",
    "C/C++ IDE 프로그램을 설치한 후,\n",
    "아래와 같은 소스 코드를 작성하고 \"컴파일-실행\"을 수행시키면,\n",
    "지정한 \"문장\"이 출력된다.\n",
    "\n",
    "#include <stdio.h>\n",
    "\n",
    "int main()\n",
    "{\n",
    "  printf(\"문장\");\n",
    "  return 0;\n",
    "}\n",
    "\n",
    "** 주의 : 본 화면에서 복사하여 붙여넣기하면 제대로 되지 않을 수 있으니 직접 소스코드를 작성해 넣어야 한다."
   ]
  },
  {
   "cell_type": "code",
   "execution_count": 1,
   "metadata": {},
   "outputs": [
    {
     "name": "stdout",
     "output_type": "stream",
     "text": [
      "Hello\n"
     ]
    }
   ],
   "source": [
    "print(\"Hello\")"
   ]
  },
  {
   "cell_type": "markdown",
   "metadata": {},
   "source": [
    "### [기초-출력] 출력하기02(설명) \\n 이번에는 공백()을 포함한 문장을 출력한다.\n",
    "다음 문장을 출력해보자.\n",
    "\n",
    "Hello World\n",
    "(대소문자에 주의한다.)"
   ]
  },
  {
   "cell_type": "code",
   "execution_count": 3,
   "metadata": {},
   "outputs": [
    {
     "name": "stdout",
     "output_type": "stream",
     "text": [
      "Hello World\n"
     ]
    }
   ],
   "source": [
    "print(\"Hello World\")"
   ]
  },
  {
   "cell_type": "markdown",
   "metadata": {},
   "source": [
    "### 1003 : [기초-출력] 출력하기03(설명) \\n 이번에는 줄을 바꿔 출력하는 출력문을 연습해보자.\n",
    "다음과 같이 줄을 바꿔 출력해야 한다.\n",
    "\n",
    "Hello\n",
    "World\n",
    "(두 줄에 걸쳐 줄을 바꿔 출력)\n",
    "\n",
    "참고\n",
    "백슬래시 문자 '\\'는 글꼴 설정에 따라,\n",
    "'W'와 비슷한 원표시('₩')로 보이기도 하지만 같은 문자이다.\n",
    "printf( ) 함수를 이용해 문장을 출력할 때, 줄을 바꾸기 위해서는\n",
    "'\\n'(new line을 의미)을 줄을 바꿀 위치에 넣어야 한다.\n",
    "'\\t'는 탭(tab),\n",
    "'\\c'은 캐리지리턴(carriage return, 그 줄의 맨 앞으로 커서를 보냄)\n",
    "등이 있다.\n",
    "\n",
    "이러한 문자를 이스케이프(escape) 문자라고 하고,\n",
    "출력하는 문장 안에서 원하는 형식에 맞추어 출력할 수 있도록\n",
    "줄을 바꾸는 등의 특별한 의미들을 나타내기 위해 사용한다."
   ]
  },
  {
   "cell_type": "code",
   "execution_count": 4,
   "metadata": {},
   "outputs": [
    {
     "name": "stdout",
     "output_type": "stream",
     "text": [
      "Hello\n",
      "World\n"
     ]
    }
   ],
   "source": [
    "print(\"Hello\\nWorld\")"
   ]
  },
  {
   "cell_type": "markdown",
   "metadata": {},
   "source": [
    "### 1004 : [기초-출력] 출력하기04(설명) \\n 이번에는 작은 따옴표(single quotation mark)가 들어있는\n",
    "특수한 형태의 출력문에 대한 연습을 해보자.\n",
    "\n",
    "다음 문장을 출력하시오.\n",
    "\n",
    "'Hello'\n",
    "\n",
    "참고\n",
    "printf( ) 함수로 따옴표 문자 ' 를 출력하기 위해서는 \\' 로 입력해야 한다.\n",
    "\n",
    "\\' 는 작은따옴표 문자 자체 출력\n",
    "\\\" 는 큰따옴표 문자 자체 출력 …  등.\n",
    "\n",
    "작은따옴표나 큰따옴표는 문자나 문장을 나타내기 위한 기호들로 쓰이는데,\n",
    "그렇게 쓰이는 의미가 아니라 따옴표 그 자체를 표현해 주기 위해서이다.\n",
    "\n",
    "예시\n",
    "printf(\"\\'\");"
   ]
  },
  {
   "cell_type": "code",
   "execution_count": 5,
   "metadata": {},
   "outputs": [
    {
     "name": "stdout",
     "output_type": "stream",
     "text": [
      "'Hello'\n"
     ]
    }
   ],
   "source": [
    "print(\"'Hello'\")"
   ]
  },
  {
   "cell_type": "code",
   "execution_count": 8,
   "metadata": {},
   "outputs": [
    {
     "name": "stdout",
     "output_type": "stream",
     "text": [
      "\"\n"
     ]
    }
   ],
   "source": [
    "print('\"')"
   ]
  },
  {
   "cell_type": "markdown",
   "metadata": {},
   "source": [
    "### 1005 : [기초-출력] 출력하기05(설명) \\n 이번에는 큰따옴표(double quotation mark)가 포함된 출력문을 연습해보자.\n",
    "\n",
    "다음 문장을 출력하시오.\n",
    "\n",
    "\"Hello World\"\n",
    "(단, 큰따옴표도 함께 출력한다.)\n",
    "\n",
    "참고\n",
    "printf( ) 함수로 큰 따옴표 문자 \" 를 출력하기 위해서는 \\\" 로 출력해야 한다.\n",
    "\n",
    "예시\n",
    "printf(\"\\\"\");"
   ]
  },
  {
   "cell_type": "code",
   "execution_count": 11,
   "metadata": {},
   "outputs": [
    {
     "name": "stdout",
     "output_type": "stream",
     "text": [
      "\"Hello World\"\n"
     ]
    }
   ],
   "source": [
    "print('\"Hello World\"')"
   ]
  },
  {
   "cell_type": "markdown",
   "metadata": {},
   "source": [
    "### 1006 : [기초-출력] 출력하기06(설명) \\n 이번에는 특수문자 출력에 도전하자!!\n",
    "\n",
    "다음 문장을 출력하시오.\n",
    "\n",
    "\"!@#$%^&*()\"\n",
    "(단, 큰따옴표도 함께 출력한다.)\n",
    "\n",
    "참고\n",
    "% 기호가 앞에 붙는 문자를 형식 지정자(format specifier)라고 하며,\n",
    "그 위치에서 지정한 형식으로 값을 출력해 준다.\n",
    "따라서, 퍼센트 문자 %를 출력하기 위해서는 %%로 출력해 주어야 한다.\n",
    "\n",
    "예시\n",
    "printf(\"%%\");"
   ]
  },
  {
   "cell_type": "code",
   "execution_count": 12,
   "metadata": {},
   "outputs": [
    {
     "name": "stdout",
     "output_type": "stream",
     "text": [
      "\"!@#$%^&*()\"\n"
     ]
    }
   ],
   "source": [
    "print('\"!@#$%^&*()\"')"
   ]
  },
  {
   "cell_type": "markdown",
   "metadata": {},
   "source": [
    "### 1007 : [기초-출력] 출력하기07(설명) \\n윈도우 운영체제의 파일 경로를 출력하는 연습을 해보자.\n",
    " \n",
    "파일 경로에는 특수문자들이 포함된다.\n",
    "\n",
    "다음 경로를 출력하시오.\n",
    "\n",
    "\"C:\\Download\\hello.cpp\"\n",
    "(단, 큰따옴표도 함께 출력한다.)\n",
    "\n",
    "참고\n",
    "printf( ) 함수로 백슬래시 문자 \\ 를 출력하기 위해서는 \\\\ 로 출력해야 한다.\n",
    "\n",
    "예시\n",
    "printf(\"\\\\\");"
   ]
  },
  {
   "cell_type": "code",
   "execution_count": 13,
   "metadata": {},
   "outputs": [
    {
     "name": "stdout",
     "output_type": "stream",
     "text": [
      "\"C:\\Download\\hello.cpp\"\n"
     ]
    }
   ],
   "source": [
    "print('\"C:\\Download\\hello.cpp\"')"
   ]
  },
  {
   "cell_type": "markdown",
   "metadata": {},
   "source": [
    "### 1008 : [기초-출력] 출력하기08(설명) \\n 이번에는 특수문자를 출력하는 연습을 해보자.\n",
    "\n",
    "키보드로 입력할 수 없는 다음 모양을 출력해보자.\n",
    "(** 참고 : 운영체제의 문자 시스템에 따라 아래와 같은 모양이 출력되지 않을 수 있다.)\n",
    "\n",
    "┌┬┐\n",
    "├┼┤\n",
    "└┴┘\n",
    "\n",
    "참고\n",
    "다음과 같은 유니코드로 특수문자를 표현한다고 하자.\n",
    "(운영체제 또는 컴파일러에 따라 사용되는 문자의 코드표가 다르다.)\n",
    "\n",
    "\n",
    "\n",
    "윈도우에서는 \"ㅂ+한자\" 키를 누르면 선문자를 입력할 수 있다.\n",
    "선문자를 이용하면 일반적인 텍스트 모드화면(메모장 등)에서도 표를 그릴 수 있다.\n",
    "\n",
    "유니코드 특수문자를 출력하는 방법,\n",
    "...\n",
    "printf(\"\\u250C\\u252C\\u2510\\n\");\n",
    "...\n",
    "\n",
    "┌┬┐\n",
    "├┼┤\n",
    "└┴┘\n",
    "\n",
    "을 그려 출력하면 표처럼 선이 붙어 출력된다.\n",
    "\n",
    "CLI 명령어 입출력 화면에서 표나 그림을 그리기 위해 사용되던 방법과 비슷하다."
   ]
  },
  {
   "cell_type": "code",
   "execution_count": 15,
   "metadata": {},
   "outputs": [
    {
     "name": "stdout",
     "output_type": "stream",
     "text": [
      "┌┬┐\n",
      "\n"
     ]
    }
   ],
   "source": [
    "print(\"\\u250C\\u252C\\u2510\\n\")"
   ]
  },
  {
   "cell_type": "markdown",
   "metadata": {},
   "source": [
    "### 1010 : [기초-입출력] 정수 1개 입력받아 그대로 출력하기(설명)\\n정수형(int)으로 변수를 선언하고, 변수에 정수값을 저장한 후\n",
    "변수에 저장되어 있는 값을 그대로 출력해보자.\n",
    "\n",
    "예시\n",
    "int main()\n",
    "{\n",
    "    int n;\n",
    "    scanf(\"%d\", &n);\n",
    "    printf(\"%d\", n);\n",
    "\n",
    "    return 0;\n",
    "}\n",
    "\n",
    "와 같은 형태로 가능하다."
   ]
  },
  {
   "cell_type": "code",
   "execution_count": 17,
   "metadata": {},
   "outputs": [
    {
     "name": "stdout",
     "output_type": "stream",
     "text": [
      "99\n"
     ]
    }
   ],
   "source": [
    "num = input()\n",
    "print(num)"
   ]
  },
  {
   "cell_type": "markdown",
   "metadata": {},
   "source": [
    "### 1011 : [기초-입출력] 문자 1개 입력받아 그대로 출력하기(설명)\\n문자형(char)으로 변수를 하나 선언하고, 변수에 문자를 저장한 후\n",
    "변수에 저장되어 있는 문자를 그대로 출력해보자.\n",
    "\n",
    "참고\n",
    "char x;\n",
    "scanf(\"%c\", &x);\n",
    "printf(\"%c\", x);\n",
    "\n",
    "와 같은 방법으로 가능하다."
   ]
  },
  {
   "cell_type": "code",
   "execution_count": 19,
   "metadata": {},
   "outputs": [
    {
     "name": "stdout",
     "output_type": "stream",
     "text": [
      "Ich muss schnell die Aufgeben lernen, weiter zu gehen. Aber ich bin nicht sicher, ob ich richtig mache\n"
     ]
    }
   ],
   "source": [
    "text_1 = \"Ich muss schnell die Aufgeben lernen, weiter zu gehen. Aber ich bin nicht sicher, ob ich richtig mache\"\n",
    "print(text_1)"
   ]
  },
  {
   "cell_type": "markdown",
   "metadata": {},
   "source": [
    "### 1012 : [기초-입출력] 실수 1개 입력받아 그대로 출력하기(설명) \\n문제 설명\n",
    "실수형(float)로 변수를 선언하고 그 변수에 실수값을 저장한 후\n",
    "저장되어 있는 실수값을 출력해보자.\n",
    "\n",
    "참고\n",
    "float x;\n",
    "scanf(\"%f\", &x);\n",
    "printf(\"%f\", x);\n",
    "와 같은 방법으로 가능하다.\n",
    "\n"
   ]
  },
  {
   "cell_type": "code",
   "execution_count": 35,
   "metadata": {},
   "outputs": [
    {
     "name": "stdout",
     "output_type": "stream",
     "text": [
      "1.234500000\n"
     ]
    }
   ],
   "source": [
    "num = 1.234500000\n",
    "print('%0.9f'%num)"
   ]
  },
  {
   "cell_type": "markdown",
   "metadata": {},
   "source": [
    "### 1013 : [기초-입출력] 정수 2개 입력받아 그대로 출력하기(설명)\\n정수(int) 2개를 입력받아 그대로 출력해보자.\n",
    "\n",
    "참고\n",
    "\n",
    "int a, b;\n",
    "scanf(\"%d%d\", &a, &b);  //엔터/공백으로 입력 데이터가 구분되어 입력\n",
    "printf(\"%d %d\", a, b);\n",
    "\n",
    "와 같은 방법으로 가능하다.\n"
   ]
  },
  {
   "cell_type": "code",
   "execution_count": 79,
   "metadata": {},
   "outputs": [
    {
     "name": "stdout",
     "output_type": "stream",
     "text": [
      "12\n",
      "1\n",
      "2\n"
     ]
    }
   ],
   "source": [
    "a , b= input()\n",
    "#print(a+\" \"+b)\n",
    "print(a)\n",
    "print(b)"
   ]
  },
  {
   "cell_type": "code",
   "execution_count": 80,
   "metadata": {},
   "outputs": [
    {
     "name": "stdout",
     "output_type": "stream",
     "text": [
      "12\n"
     ]
    },
    {
     "ename": "ValueError",
     "evalue": "not enough values to unpack (expected 2, got 1)",
     "output_type": "error",
     "traceback": [
      "\u001b[1;31m---------------------------------------------------------------------------\u001b[0m",
      "\u001b[1;31mValueError\u001b[0m                                Traceback (most recent call last)",
      "\u001b[1;32m<ipython-input-80-bb75254bb642>\u001b[0m in \u001b[0;36m<module>\u001b[1;34m\u001b[0m\n\u001b[1;32m----> 1\u001b[1;33m \u001b[0ma\u001b[0m \u001b[1;33m,\u001b[0m \u001b[0mb\u001b[0m \u001b[1;33m=\u001b[0m \u001b[0minput\u001b[0m\u001b[1;33m(\u001b[0m\u001b[1;33m)\u001b[0m\u001b[1;33m.\u001b[0m\u001b[0msplit\u001b[0m\u001b[1;33m(\u001b[0m\u001b[1;33m)\u001b[0m\u001b[1;33m\u001b[0m\u001b[1;33m\u001b[0m\u001b[0m\n\u001b[0m\u001b[0;32m      2\u001b[0m \u001b[0mprint\u001b[0m\u001b[1;33m(\u001b[0m\u001b[0ma\u001b[0m\u001b[1;33m)\u001b[0m\u001b[1;33m\u001b[0m\u001b[1;33m\u001b[0m\u001b[0m\n\u001b[0;32m      3\u001b[0m \u001b[0mprint\u001b[0m\u001b[1;33m(\u001b[0m\u001b[0mb\u001b[0m\u001b[1;33m)\u001b[0m\u001b[1;33m\u001b[0m\u001b[1;33m\u001b[0m\u001b[0m\n",
      "\u001b[1;31mValueError\u001b[0m: not enough values to unpack (expected 2, got 1)"
     ]
    }
   ],
   "source": [
    "a , b = input().split()\n",
    "print(a)\n",
    "print(b)"
   ]
  },
  {
   "cell_type": "code",
   "execution_count": null,
   "metadata": {},
   "outputs": [],
   "source": []
  },
  {
   "cell_type": "code",
   "execution_count": 45,
   "metadata": {},
   "outputs": [
    {
     "name": "stdout",
     "output_type": "stream",
     "text": [
      "┌┬┐\n",
      "├┼┤\n",
      "└┴┘\n"
     ]
    }
   ],
   "source": [
    "print(\"\\u250C\\u252C\\u2510\\n\\u251C\\u253C\\u2524\\n\\u2514\\u2534\\u2518\")"
   ]
  },
  {
   "cell_type": "code",
   "execution_count": 48,
   "metadata": {},
   "outputs": [
    {
     "name": "stdout",
     "output_type": "stream",
     "text": [
      "1\n",
      "2\n",
      "1 2\n"
     ]
    }
   ],
   "source": [
    "a = int(input())\n",
    "b= int(input())\n",
    "print(\"{0} {1}\".format(a,b))"
   ]
  },
  {
   "cell_type": "markdown",
   "metadata": {},
   "source": [
    "### 1014 : [기초-입출력] 문자 2개 입력받아 순서 바꿔 출력하기(설명) \n",
    "2개의 문자(ASCII CODE)를 입력받아서 순서를 바꿔 출력해보자.\n",
    "\n",
    "참고\n",
    "char x, y;\n",
    "scanf(\"%c %c\", &x, &y);\n",
    "printf(\"%c %c\", y, x); //출력되는 순서를 작성\n",
    "와 같은 방법으로 해결할 수 있다.\n",
    "\n"
   ]
  },
  {
   "cell_type": "code",
   "execution_count": 51,
   "metadata": {},
   "outputs": [
    {
     "name": "stdout",
     "output_type": "stream",
     "text": [
      "['sd', 'lkjes', 'sdfliwe', 'sdf']\n"
     ]
    }
   ],
   "source": [
    "a=\"sd lkjes sdfliwe sdf \".strip().split(\" \")\n",
    "print(a)"
   ]
  },
  {
   "cell_type": "code",
   "execution_count": 65,
   "metadata": {},
   "outputs": [
    {
     "name": "stdout",
     "output_type": "stream",
     "text": [
      "['sd', 'lkjes', 'sdfliwe', 'sdf', '']\n"
     ]
    }
   ],
   "source": [
    "a=\"sd lkjes sdfliwe sdf \".split(\" \")\n",
    "print(a)"
   ]
  },
  {
   "cell_type": "code",
   "execution_count": 82,
   "metadata": {},
   "outputs": [
    {
     "name": "stdout",
     "output_type": "stream",
     "text": [
      "1 2\n",
      "2 1\n"
     ]
    }
   ],
   "source": [
    "char=[str(x) for x in input().strip().split(\" \")]\n",
    "print(char[1]+\" \"+char[0])"
   ]
  },
  {
   "cell_type": "code",
   "execution_count": 85,
   "metadata": {},
   "outputs": [
    {
     "name": "stdout",
     "output_type": "stream",
     "text": [
      "1 2\n",
      "2 1\n"
     ]
    }
   ],
   "source": [
    "char=input().strip().split(\" \")\n",
    "print(char[1]+\" \"+char[0])"
   ]
  },
  {
   "cell_type": "markdown",
   "metadata": {},
   "source": [
    "### 1015 : [기초-입출력] 실수 입력받아 둘째 자리까지 출력하기(설명)\n",
    "실수(float) 1개를 입력받아 저장한 후,\n",
    "저장되어 있는 값을 소수점 셋 째 자리에서 반올림하여\n",
    "소수점 이하 둘 째 자리까지 출력하시오.\n",
    "\n",
    "참고\n",
    "%.3f 와 같은 형식으로 지정하면,\n",
    "소수점 이하 넷 째 자리에서 반올림하여 소수점 이하 셋 째 자리까지 출력하라는 의미이다."
   ]
  },
  {
   "cell_type": "code",
   "execution_count": 89,
   "metadata": {},
   "outputs": [
    {
     "name": "stdout",
     "output_type": "stream",
     "text": [
      "0.123445567\n",
      "0.123\n"
     ]
    }
   ],
   "source": [
    "num = float(input())\n",
    "print('%0.3f'%num)"
   ]
  },
  {
   "cell_type": "markdown",
   "metadata": {},
   "source": [
    "### 1017 : [기초-입출력] 정수 1개 입력받아 3번 출력하기(설명)\n",
    "int형 정수 1개를 입력받아 공백을 사이에 두고 3번 출력해보자.\n"
   ]
  },
  {
   "cell_type": "code",
   "execution_count": 96,
   "metadata": {},
   "outputs": [
    {
     "name": "stdout",
     "output_type": "stream",
     "text": [
      "1\n",
      "1 1 1\n"
     ]
    }
   ],
   "source": [
    "a = int(input())\n",
    "print(str(a)+' '+str(a)+' '+str(a))"
   ]
  },
  {
   "cell_type": "markdown",
   "metadata": {},
   "source": [
    "### 1018 : [기초-입출력] 시간 입력받아 그대로 출력하기(설명) \n",
    "어떤 형식에 맞추어 시간이 입력될 때, 그대로 출력하는 연습을 해보자.\n"
   ]
  },
  {
   "cell_type": "code",
   "execution_count": 106,
   "metadata": {},
   "outputs": [
    {
     "name": "stdout",
     "output_type": "stream",
     "text": [
      "3:30\n",
      "['3', '30']\n"
     ]
    }
   ],
   "source": [
    "time = [str(i) for i in input().split(':')]\n",
    "print(time)"
   ]
  },
  {
   "cell_type": "code",
   "execution_count": 107,
   "metadata": {},
   "outputs": [
    {
     "name": "stdout",
     "output_type": "stream",
     "text": [
      "3:30\n",
      "['3', '30']\n"
     ]
    }
   ],
   "source": [
    "time = input().split(':')\n",
    "print(time)"
   ]
  },
  {
   "cell_type": "code",
   "execution_count": 108,
   "metadata": {},
   "outputs": [
    {
     "name": "stdout",
     "output_type": "stream",
     "text": [
      "3:30\n",
      "3:30\n"
     ]
    }
   ],
   "source": [
    "time = input()\n",
    "print(time)"
   ]
  },
  {
   "cell_type": "markdown",
   "metadata": {},
   "source": [
    "### 1019 : [기초-입출력] 연월일 입력받아 그대로 출력하기\n",
    "년, 월, 일을 입력받아 지정된 형식으로 출력하는 연습을 해보자.\n"
   ]
  },
  {
   "cell_type": "code",
   "execution_count": 122,
   "metadata": {},
   "outputs": [
    {
     "name": "stdout",
     "output_type": "stream",
     "text": [
      "20.10.10\n",
      "0020.10.10\n"
     ]
    }
   ],
   "source": [
    "date = [int(i) for i in input().split('.')]\n",
    "y = '%04d'%date[0]  \n",
    "m = '%02d'%date[1]  \n",
    "d = '%02d'%date[2]  \n",
    "print(str(y),str(m),str(d),sep=\".\")"
   ]
  },
  {
   "cell_type": "markdown",
   "metadata": {},
   "source": [
    "### 1020 : [기초-입출력] 주민번호 입력받아 형태 바꿔 출력하기\n",
    "주민번호는 다음과 같이 구성된다.\n",
    "\n",
    "XXXXXX-XXXXXXX\n",
    "\n",
    "앞의 6자리는 생년월일(yymmdd)이고 뒤 7자리는 성별, 지역, 오류검출코드이다.\n",
    "주민번호를 입력받아 형태를 바꿔 출력해보자.\n"
   ]
  },
  {
   "cell_type": "code",
   "execution_count": 126,
   "metadata": {},
   "outputs": [
    {
     "name": "stdout",
     "output_type": "stream",
     "text": [
      "12-34\n",
      "1234\n"
     ]
    }
   ],
   "source": [
    "num = [i for i in input().split('-')]\n",
    "print(\"{0}{1}\".format(num[0],num[1]))"
   ]
  },
  {
   "cell_type": "code",
   "execution_count": null,
   "metadata": {},
   "outputs": [],
   "source": []
  }
 ],
 "metadata": {
  "kernelspec": {
   "display_name": "Python 3",
   "language": "python",
   "name": "python3"
  },
  "language_info": {
   "codemirror_mode": {
    "name": "ipython",
    "version": 3
   },
   "file_extension": ".py",
   "mimetype": "text/x-python",
   "name": "python",
   "nbconvert_exporter": "python",
   "pygments_lexer": "ipython3",
   "version": "3.8.3"
  }
 },
 "nbformat": 4,
 "nbformat_minor": 4
}
